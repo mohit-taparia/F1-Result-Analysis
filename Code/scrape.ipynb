{
 "cells": [
  {
   "cell_type": "code",
   "execution_count": 1,
   "metadata": {},
   "outputs": [],
   "source": [
    "# Import dependencies\n",
    "import pandas as pd\n",
    "import numpy as np\n",
    "from pprint import pprint\n",
    "import requests\n",
    "\n",
    "from selenium import webdriver\n",
    "import bs4\n",
    "from bs4 import BeautifulSoup\n",
    "import time"
   ]
  },
  {
   "cell_type": "code",
   "execution_count": 1,
   "metadata": {},
   "outputs": [
    {
     "name": "stdout",
     "output_type": "stream",
     "text": [
      "(1101, 8)\n"
     ]
    }
   ],
   "source": [
    "import requests\n",
    "import pandas as pd\n",
    "\n",
    "def fetch_race_data():\n",
    "    races_data = {\n",
    "        'season': [],\n",
    "        'round': [],\n",
    "        'circuit_id': [],\n",
    "        'lat': [],\n",
    "        'long': [],\n",
    "        'country': [],\n",
    "        'date': [],\n",
    "        'url': []\n",
    "    }\n",
    "    for year in range(1950, 2024):\n",
    "        url = f'https://ergast.com/api/f1/{year}.json'\n",
    "        response = requests.get(url)\n",
    "        data = response.json()\n",
    "        \n",
    "        races_data = data.get('MRData', {}).get('RaceTable', {}).get('Races', [])\n",
    "        \n",
    "        for item in races_data:\n",
    "            race_info = {\n",
    "                'season': int(item.get('season')),\n",
    "                'round': int(item.get('round')),\n",
    "                'circuit_id': item['Circuit'].get('circuitId'),\n",
    "                'lat': float(item['Circuit']['Location'].get('lat')),\n",
    "                'long': float(item['Circuit']['Location'].get('long')),\n",
    "                'country': item['Circuit']['Location'].get('country'),\n",
    "                'date': item.get('date'),\n",
    "                'url': item.get('url')\n",
    "            }\n",
    "            races_data['season'].append(race_info['season'])\n",
    "            races_data['round'].append(race_info['round'])\n",
    "            races_data['circuit_id'].append(race_info['circuit_id'])\n",
    "            races_data['lat'].append(race_info['lat'])\n",
    "            races_data['long'].append(race_info['long'])\n",
    "            races_data['country'].append(race_info['country'])\n",
    "            races_data['date'].append(race_info['date'])\n",
    "            races_data['url'].append(race_info['url'])\n",
    "\n",
    "    races_df = pd.DataFrame(races_data)\n",
    "    return races_df\n",
    "races_data = fetch_race_data()\n",
    "print(races_data.shape)\n"
   ]
  },
  {
   "cell_type": "code",
   "execution_count": 2,
   "metadata": {},
   "outputs": [],
   "source": [
    "races_data.to_csv('data2/races_data.csv', index = False)"
   ]
  },
  {
   "cell_type": "code",
   "execution_count": 2,
   "metadata": {},
   "outputs": [],
   "source": [
    "read_race_data = pd.read_csv('data2/races_data.csv')"
   ]
  },
  {
   "cell_type": "code",
   "execution_count": 3,
   "metadata": {},
   "outputs": [],
   "source": [
    "seasons = []\n",
    "for year in np.array(read_race_data.season.unique()):\n",
    "    seasons.append([year, list(read_race_data[read_race_data.season == year]['round'])])"
   ]
  },
  {
   "cell_type": "code",
   "execution_count": 4,
   "metadata": {},
   "outputs": [
    {
     "name": "stdout",
     "output_type": "stream",
     "text": [
      "(25827, 13)\n"
     ]
    }
   ],
   "source": [
    "import requests\n",
    "import pandas as pd\n",
    "\n",
    "def fetch_race_results(rounds):\n",
    "    results = []\n",
    "\n",
    "    for season, round_numbers in rounds:\n",
    "        for rnd in round_numbers:\n",
    "            url = f'http://ergast.com/api/f1/{season}/{rnd}/results.json'\n",
    "            response = requests.get(url)\n",
    "            data = response.json()\n",
    "            \n",
    "            race_results = data.get('MRData', {}).get('RaceTable', {}).get('Races', [{}])[0].get('Results', [])\n",
    "            \n",
    "            for item in race_results:\n",
    "                driver_info = item.get('Driver', {})\n",
    "                constructor_info = item.get('Constructor', {})\n",
    "                time_info = item.get('Time', {})\n",
    "                \n",
    "                result_info = {\n",
    "                    'season': int(season),\n",
    "                    'round': int(rnd),\n",
    "                    'circuit_id': data['MRData']['RaceTable']['Races'][0]['Circuit'].get('circuitId'),\n",
    "                    'driver': driver_info.get('driverId'),\n",
    "                    'date_of_birth': driver_info.get('dateOfBirth'),\n",
    "                    'nationality': driver_info.get('nationality'),\n",
    "                    'constructor': constructor_info.get('constructorId'),\n",
    "                    'grid': int(item.get('grid')) if item.get('grid') is not None else None,\n",
    "                    'time': int(time_info.get('millis')) if time_info.get('millis') is not None else None,\n",
    "                    'status': item.get('status'),\n",
    "                    'points': float(item.get('points')) if item.get('points') is not None else None,  # Convert to float\n",
    "                    'podium': int(item.get('position')) if item.get('position') is not None else None,\n",
    "                    'url': data['MRData']['RaceTable']['Races'][0].get('url')\n",
    "                }\n",
    "                results.append(result_info)\n",
    "\n",
    "    results_df = pd.DataFrame(results)\n",
    "    return results_df\n",
    "\n",
    "# Call the function with the rounds data and print the shape of the resulting DataFrame\n",
    "results_data = fetch_race_results(seasons)\n",
    "print(results_data.shape)\n"
   ]
  },
  {
   "cell_type": "code",
   "execution_count": 6,
   "metadata": {},
   "outputs": [],
   "source": [
    "results_data.to_csv('data2/results.csv', index = False)"
   ]
  },
  {
   "cell_type": "code",
   "execution_count": 8,
   "metadata": {},
   "outputs": [
    {
     "name": "stdout",
     "output_type": "stream",
     "text": [
      "(28042, 6)\n"
     ]
    }
   ],
   "source": [
    "import requests\n",
    "import pandas as pd\n",
    "\n",
    "def fetch_driver_standings(rounds):\n",
    "    driver_standings = []\n",
    "\n",
    "    for season, round_numbers in rounds:\n",
    "        for rnd in round_numbers:\n",
    "            url = f'https://ergast.com/api/f1/{season}/{rnd}/driverStandings.json'\n",
    "            response = requests.get(url)\n",
    "            data = response.json()\n",
    "            \n",
    "            standings_data = data.get('MRData', {}).get('StandingsTable', {}).get('StandingsLists', [{}])[0].get('DriverStandings', [])\n",
    "            \n",
    "            for item in standings_data:\n",
    "                driver_info = item.get('Driver', {})\n",
    "                \n",
    "                standings_info = {\n",
    "                    'season': int(data['MRData']['StandingsTable']['StandingsLists'][0].get('season')),\n",
    "                    'round': int(data['MRData']['StandingsTable']['StandingsLists'][0].get('round')),\n",
    "                    'driver': driver_info.get('driverId'),\n",
    "                    'driver_points': float(item.get('points')) if item.get('points') is not None else None,  # Convert to float\n",
    "                    'driver_wins': float(item.get('wins')) if item.get('wins') is not None else None,  # Convert to float\n",
    "                    'driver_standings_pos': int(item.get('position')) if item.get('position') is not None else None\n",
    "                }\n",
    "                driver_standings.append(standings_info)\n",
    "\n",
    "    driver_standings_df = pd.DataFrame(driver_standings)\n",
    "    return driver_standings_df\n",
    "\n",
    "# Call the function with the rounds data and print the shape of the resulting DataFrame\n",
    "driver_standings_data = fetch_driver_standings(seasons)\n",
    "print(driver_standings_data.shape)\n"
   ]
  },
  {
   "cell_type": "code",
   "execution_count": 9,
   "metadata": {},
   "outputs": [],
   "source": [
    "def point_shift (df, driver_or_team, points):\n",
    "    df['lookup1'] = df.season.astype(str) + df[driver_or_team] + df['round'].astype(str) # current round\n",
    "    df['lookup2'] = df.season.astype(str) + df[driver_or_team] + (df['round']-1).astype(str) # previous round\n",
    "    new_df = df.merge(df[['lookup1', points]], how = 'left', left_on='lookup2',right_on='lookup1') # shifted one round\n",
    "    new_df.drop(['lookup1_x', 'lookup2', 'lookup1_y'], axis = 1, inplace = True) # drop unnecessary columns\n",
    "    new_df.rename(columns = {points+'_x': points+'_after_race', points+'_y': points}, inplace = True) # rename before/after race\n",
    "    new_df[points].fillna(0, inplace = True)\n",
    "    return new_df"
   ]
  },
  {
   "cell_type": "code",
   "execution_count": 11,
   "metadata": {},
   "outputs": [
    {
     "data": {
      "text/html": [
       "<div>\n",
       "<style scoped>\n",
       "    .dataframe tbody tr th:only-of-type {\n",
       "        vertical-align: middle;\n",
       "    }\n",
       "\n",
       "    .dataframe tbody tr th {\n",
       "        vertical-align: top;\n",
       "    }\n",
       "\n",
       "    .dataframe thead th {\n",
       "        text-align: right;\n",
       "    }\n",
       "</style>\n",
       "<table border=\"1\" class=\"dataframe\">\n",
       "  <thead>\n",
       "    <tr style=\"text-align: right;\">\n",
       "      <th></th>\n",
       "      <th>season</th>\n",
       "      <th>round</th>\n",
       "      <th>driver</th>\n",
       "      <th>driver_points_after_race</th>\n",
       "      <th>driver_wins_after_race</th>\n",
       "      <th>driver_standings_pos_after_race</th>\n",
       "      <th>driver_points</th>\n",
       "      <th>driver_wins</th>\n",
       "      <th>driver_standings_pos</th>\n",
       "    </tr>\n",
       "  </thead>\n",
       "  <tbody>\n",
       "    <tr>\n",
       "      <th>28039</th>\n",
       "      <td>2023</td>\n",
       "      <td>22</td>\n",
       "      <td>lawson</td>\n",
       "      <td>2.0</td>\n",
       "      <td>0.0</td>\n",
       "      <td>20</td>\n",
       "      <td>2.0</td>\n",
       "      <td>0.0</td>\n",
       "      <td>20.0</td>\n",
       "    </tr>\n",
       "    <tr>\n",
       "      <th>28040</th>\n",
       "      <td>2023</td>\n",
       "      <td>22</td>\n",
       "      <td>sargeant</td>\n",
       "      <td>1.0</td>\n",
       "      <td>0.0</td>\n",
       "      <td>21</td>\n",
       "      <td>1.0</td>\n",
       "      <td>0.0</td>\n",
       "      <td>21.0</td>\n",
       "    </tr>\n",
       "    <tr>\n",
       "      <th>28041</th>\n",
       "      <td>2023</td>\n",
       "      <td>22</td>\n",
       "      <td>de_vries</td>\n",
       "      <td>0.0</td>\n",
       "      <td>0.0</td>\n",
       "      <td>22</td>\n",
       "      <td>0.0</td>\n",
       "      <td>0.0</td>\n",
       "      <td>22.0</td>\n",
       "    </tr>\n",
       "  </tbody>\n",
       "</table>\n",
       "</div>"
      ],
      "text/plain": [
       "       season  round    driver  driver_points_after_race  \\\n",
       "28039    2023     22    lawson                       2.0   \n",
       "28040    2023     22  sargeant                       1.0   \n",
       "28041    2023     22  de_vries                       0.0   \n",
       "\n",
       "       driver_wins_after_race  driver_standings_pos_after_race  driver_points  \\\n",
       "28039                     0.0                               20            2.0   \n",
       "28040                     0.0                               21            1.0   \n",
       "28041                     0.0                               22            0.0   \n",
       "\n",
       "       driver_wins  driver_standings_pos  \n",
       "28039          0.0                  20.0  \n",
       "28040          0.0                  21.0  \n",
       "28041          0.0                  22.0  "
      ]
     },
     "execution_count": 11,
     "metadata": {},
     "output_type": "execute_result"
    }
   ],
   "source": [
    "driver_standings_data = point_shift(driver_standings_data, 'driver', 'driver_points')\n",
    "driver_standings_data = point_shift(driver_standings_data, 'driver', 'driver_wins')\n",
    "driver_standings_data = point_shift(driver_standings_data, 'driver', 'driver_standings_pos')\n",
    "driver_standings_data.tail(3)"
   ]
  },
  {
   "cell_type": "code",
   "execution_count": 12,
   "metadata": {},
   "outputs": [],
   "source": [
    "driver_standings_data.to_csv('data2/driver_position_data.csv', index = False)"
   ]
  },
  {
   "cell_type": "code",
   "execution_count": 14,
   "metadata": {},
   "outputs": [
    {
     "name": "stdout",
     "output_type": "stream",
     "text": [
      "(13151, 6)\n"
     ]
    }
   ],
   "source": [
    "import requests\n",
    "import pandas as pd\n",
    "\n",
    "def fetch_constructor_standings(rounds):\n",
    "    constructor_standings = []\n",
    "\n",
    "    for season, round_numbers in rounds:\n",
    "        for rnd in round_numbers:\n",
    "            url = f'https://ergast.com/api/f1/{season}/{rnd}/constructorStandings.json'\n",
    "            response = requests.get(url)\n",
    "            data = response.json()\n",
    "\n",
    "            standings_data = data.get('MRData', {}).get('StandingsTable', {}).get('StandingsLists', [{}])[0].get('ConstructorStandings', [])\n",
    "\n",
    "            for item in standings_data:\n",
    "                constructor_info = item.get('Constructor', {})\n",
    "\n",
    "                standings_info = {\n",
    "                    'season': int(data['MRData']['StandingsTable']['StandingsLists'][0].get('season')),\n",
    "                    'round': int(data['MRData']['StandingsTable']['StandingsLists'][0].get('round')),\n",
    "                    'constructor': constructor_info.get('constructorId'),\n",
    "                    'constructor_points': float(item.get('points')) if item.get('points') is not None else None,\n",
    "                    'constructor_wins': float(item.get('wins')) if item.get('wins') is not None else None,\n",
    "                    'constructor_standings_pos': int(item.get('position')) if item.get('position') is not None else None\n",
    "                }\n",
    "                constructor_standings.append(standings_info)\n",
    "\n",
    "    constructor_standings_df = pd.DataFrame(constructor_standings)\n",
    "    return constructor_standings_df\n",
    "\n",
    "# Define constructor rounds starting from year 1958\n",
    "constructor_rounds = seasons[8:]\n",
    "\n",
    "# Fetch constructor standings data\n",
    "constructor_standings_data = fetch_constructor_standings(constructor_rounds)\n",
    "\n",
    "# Print the shape of the resulting DataFrame\n",
    "print(constructor_standings_data.shape)\n"
   ]
  },
  {
   "cell_type": "code",
   "execution_count": 15,
   "metadata": {},
   "outputs": [
    {
     "data": {
      "text/html": [
       "<div>\n",
       "<style scoped>\n",
       "    .dataframe tbody tr th:only-of-type {\n",
       "        vertical-align: middle;\n",
       "    }\n",
       "\n",
       "    .dataframe tbody tr th {\n",
       "        vertical-align: top;\n",
       "    }\n",
       "\n",
       "    .dataframe thead th {\n",
       "        text-align: right;\n",
       "    }\n",
       "</style>\n",
       "<table border=\"1\" class=\"dataframe\">\n",
       "  <thead>\n",
       "    <tr style=\"text-align: right;\">\n",
       "      <th></th>\n",
       "      <th>season</th>\n",
       "      <th>round</th>\n",
       "      <th>constructor</th>\n",
       "      <th>constructor_points_after_race</th>\n",
       "      <th>constructor_wins_after_race</th>\n",
       "      <th>constructor_standings_pos_after_race</th>\n",
       "      <th>constructor_points</th>\n",
       "      <th>constructor_wins</th>\n",
       "      <th>constructor_standings_pos</th>\n",
       "    </tr>\n",
       "  </thead>\n",
       "  <tbody>\n",
       "    <tr>\n",
       "      <th>13148</th>\n",
       "      <td>2023</td>\n",
       "      <td>22</td>\n",
       "      <td>alphatauri</td>\n",
       "      <td>25.0</td>\n",
       "      <td>0.0</td>\n",
       "      <td>8</td>\n",
       "      <td>21.0</td>\n",
       "      <td>0.0</td>\n",
       "      <td>8.0</td>\n",
       "    </tr>\n",
       "    <tr>\n",
       "      <th>13149</th>\n",
       "      <td>2023</td>\n",
       "      <td>22</td>\n",
       "      <td>alfa</td>\n",
       "      <td>16.0</td>\n",
       "      <td>0.0</td>\n",
       "      <td>9</td>\n",
       "      <td>16.0</td>\n",
       "      <td>0.0</td>\n",
       "      <td>9.0</td>\n",
       "    </tr>\n",
       "    <tr>\n",
       "      <th>13150</th>\n",
       "      <td>2023</td>\n",
       "      <td>22</td>\n",
       "      <td>haas</td>\n",
       "      <td>12.0</td>\n",
       "      <td>0.0</td>\n",
       "      <td>10</td>\n",
       "      <td>12.0</td>\n",
       "      <td>0.0</td>\n",
       "      <td>10.0</td>\n",
       "    </tr>\n",
       "  </tbody>\n",
       "</table>\n",
       "</div>"
      ],
      "text/plain": [
       "       season  round constructor  constructor_points_after_race  \\\n",
       "13148    2023     22  alphatauri                           25.0   \n",
       "13149    2023     22        alfa                           16.0   \n",
       "13150    2023     22        haas                           12.0   \n",
       "\n",
       "       constructor_wins_after_race  constructor_standings_pos_after_race  \\\n",
       "13148                          0.0                                     8   \n",
       "13149                          0.0                                     9   \n",
       "13150                          0.0                                    10   \n",
       "\n",
       "       constructor_points  constructor_wins  constructor_standings_pos  \n",
       "13148                21.0               0.0                        8.0  \n",
       "13149                16.0               0.0                        9.0  \n",
       "13150                12.0               0.0                       10.0  "
      ]
     },
     "execution_count": 15,
     "metadata": {},
     "output_type": "execute_result"
    }
   ],
   "source": [
    "# Again, using the point_shift function for constructor points\n",
    "\n",
    "constructor_standings_data = point_shift(constructor_standings_data, 'constructor', 'constructor_points')\n",
    "constructor_standings_data = point_shift(constructor_standings_data, 'constructor', 'constructor_wins')\n",
    "constructor_standings_data = point_shift(constructor_standings_data, 'constructor', 'constructor_standings_pos')\n",
    "constructor_standings_data.tail(3)"
   ]
  },
  {
   "cell_type": "code",
   "execution_count": 16,
   "metadata": {},
   "outputs": [],
   "source": [
    "constructor_standings_data.to_csv('data2/constructor_position_data.csv', index = False)"
   ]
  }
 ],
 "metadata": {
  "kernelspec": {
   "display_name": "Python 3",
   "language": "python",
   "name": "python3"
  },
  "language_info": {
   "codemirror_mode": {
    "name": "ipython",
    "version": 3
   },
   "file_extension": ".py",
   "mimetype": "text/x-python",
   "name": "python",
   "nbconvert_exporter": "python",
   "pygments_lexer": "ipython3",
   "version": "3.12.1"
  }
 },
 "nbformat": 4,
 "nbformat_minor": 2
}
